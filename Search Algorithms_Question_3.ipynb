{
 "cells": [
  {
   "cell_type": "markdown",
   "metadata": {},
   "source": [
    "# Search Algorithms\n",
    "## Graph 3"
   ]
  },
  {
   "cell_type": "markdown",
   "metadata": {},
   "source": [
    "### Creating the Adjacency Matrix based on the given graph"
   ]
  },
  {
   "cell_type": "code",
   "execution_count": 1,
   "metadata": {},
   "outputs": [
    {
     "name": "stdout",
     "output_type": "stream",
     "text": [
      "[0 1 0 0 0 0]\n",
      "[0 0 3 0 0 0]\n",
      "[0 0 0 1 0 1]\n",
      "[0 0 0 0 0 1]\n",
      "[0 0 0 0 0 1]\n",
      "[0 0 0 0 0 0]\n"
     ]
    }
   ],
   "source": [
    "import numpy as np\n",
    "\n",
    "vertices = ['S', 'A', 'B', 'C', 'D', 'G']\n",
    "\n",
    "edges = [\n",
    "    ('S', 'A', 1),\n",
    "    ('A', 'B', 3),\n",
    "    ('B', 'C', 1),\n",
    "    ('B', 'G', 1),\n",
    "    ('C', 'G', 1),\n",
    "    ('D', 'G', 1)\n",
    "]\n",
    "\n",
    "\n",
    "num_vertices = len(vertices)\n",
    "adjacency_matrix = np.zeros((num_vertices, num_vertices), dtype=int)\n",
    "\n",
    "\n",
    "vertex_indices = {vertex: index for index, vertex in enumerate(vertices)}\n",
    "\n",
    "for edge in edges:\n",
    "    source, target, weight = edge\n",
    "    source_index = vertex_indices[source]\n",
    "    target_index = vertex_indices[target]\n",
    "    adjacency_matrix[source_index][target_index] = weight\n",
    "\n",
    "\n",
    "for row in adjacency_matrix:\n",
    "    print(row)\n"
   ]
  },
  {
   "cell_type": "markdown",
   "metadata": {},
   "source": [
    "### Depth First Search"
   ]
  },
  {
   "cell_type": "code",
   "execution_count": 2,
   "metadata": {},
   "outputs": [
    {
     "name": "stdout",
     "output_type": "stream",
     "text": [
      "Path from 'S' to 'G' found by DFS: S -> A -> B -> C -> G\n"
     ]
    }
   ],
   "source": [
    "\n",
    "def dfs(graph, start, goal, path=[]):\n",
    "    path = path + [start]\n",
    "\n",
    "    if start == goal:\n",
    "        return path\n",
    "\n",
    "    for vertex in range(len(graph[start])):\n",
    "        if graph[start][vertex] > 0 and vertex not in path:\n",
    "            new_path = dfs(graph, vertex, goal, path)\n",
    "            if new_path:\n",
    "                return new_path\n",
    "\n",
    "    return None\n",
    "\n",
    "\n",
    "goal_vertex = 'G'\n",
    "\n",
    "\n",
    "start_vertex = vertices.index('S')\n",
    "path = dfs(adjacency_matrix, start_vertex, vertices.index(goal_vertex))\n",
    "\n",
    "if path is not None:\n",
    "    path = [vertices[i] for i in path]\n",
    "    print(\"Path from 'S' to 'G' found by DFS:\", \" -> \".join(path))\n",
    "else:\n",
    "    print(\"No path from 'S' to 'G' found by DFS\")\n"
   ]
  },
  {
   "cell_type": "markdown",
   "metadata": {},
   "source": [
    "### Brtish Museum Search"
   ]
  },
  {
   "cell_type": "code",
   "execution_count": 9,
   "metadata": {},
   "outputs": [
    {
     "name": "stdout",
     "output_type": "stream",
     "text": [
      "Path from 'S' to 'G' found by BMS: S -> A -> B -> G\n"
     ]
    }
   ],
   "source": [
    "from collections import deque\n",
    "def bms(graph, start, goal):\n",
    "    visited = set()\n",
    "    queue = [[start]]\n",
    "\n",
    "    if start == goal:\n",
    "        return [start]\n",
    "\n",
    "    while queue:\n",
    "        path = queue.pop(0)\n",
    "        node = path[-1]\n",
    "\n",
    "        if node not in visited:\n",
    "            neighbors = [i for i, value in enumerate(graph[node]) if value > 0]\n",
    "\n",
    "            for neighbor in neighbors:\n",
    "                new_path = list(path)\n",
    "                new_path.append(neighbor)\n",
    "                queue.append(new_path)\n",
    "\n",
    "                if neighbor == goal:\n",
    "                    return new_path\n",
    "\n",
    "            visited.add(node)\n",
    "\n",
    "    return None\n",
    "\n",
    "\n",
    "goal_vertex = 'G'\n",
    "\n",
    "\n",
    "start_vertex = vertices.index('S')\n",
    "path_indices = bms(adjacency_matrix, start_vertex, vertices.index(goal_vertex))\n",
    "\n",
    "if path_indices is not None:\n",
    "    path = [vertices[i] for i in path_indices]\n",
    "    print(\"Path from 'S' to 'G' found by BMS:\", \" -> \".join(path))\n",
    "else:\n",
    "    print(\"No path from 'S' to 'G' found by BMS\")\n"
   ]
  },
  {
   "cell_type": "markdown",
   "metadata": {},
   "source": [
    "### Breadth First Search"
   ]
  },
  {
   "cell_type": "code",
   "execution_count": 6,
   "metadata": {},
   "outputs": [
    {
     "name": "stdout",
     "output_type": "stream",
     "text": [
      "Path from 'S' to 'G' found by BFS: S -> A -> B -> G\n"
     ]
    }
   ],
   "source": [
    "from collections import deque\n",
    "def bfs(graph, start, goal):\n",
    "    visited = set()\n",
    "    queue = deque([[start]])\n",
    "\n",
    "    if start == goal:\n",
    "        return [start]\n",
    "\n",
    "    while queue:\n",
    "        path = queue.popleft()\n",
    "        node = path[-1]\n",
    "\n",
    "        if node not in visited:\n",
    "            neighbors = [i for i, value in enumerate(graph[node]) if value > 0]\n",
    "\n",
    "            for neighbor in neighbors:\n",
    "                new_path = list(path)\n",
    "                new_path.append(neighbor)\n",
    "                queue.append(new_path)\n",
    "\n",
    "                if neighbor == goal:\n",
    "                    return new_path\n",
    "\n",
    "            visited.add(node)\n",
    "\n",
    "    return None\n",
    "\n",
    "\n",
    "goal_vertex = 'G'\n",
    "\n",
    "start_vertex = vertices.index('S')\n",
    "path_indices = bfs(adjacency_matrix, start_vertex, vertices.index(goal_vertex))\n",
    "\n",
    "if path_indices is not None:\n",
    "\n",
    "    path = [vertices[i] for i in path_indices]\n",
    "    print(\"Path from 'S' to 'G' found by BFS:\", \" -> \".join(path))\n",
    "else:\n",
    "    print(\"No path from 'S' to 'G' found by BFS\")\n"
   ]
  },
  {
   "cell_type": "markdown",
   "metadata": {},
   "source": [
    "### Beam Search"
   ]
  },
  {
   "cell_type": "code",
   "execution_count": 11,
   "metadata": {},
   "outputs": [
    {
     "name": "stdout",
     "output_type": "stream",
     "text": [
      "Path from 'S' to 'G' found by Beam Search: S -> A -> B -> G\n"
     ]
    }
   ],
   "source": [
    "def beam_search(graph, start, goal, beam_width):\n",
    "    current_beam = [(start, [])]  \n",
    "\n",
    "    while current_beam:\n",
    "        next_beam = []\n",
    "\n",
    "        for vertex, path in current_beam:\n",
    "            neighbors = [i for i, value in enumerate(graph[vertex]) if value > 0]\n",
    "\n",
    "            for neighbor in neighbors:\n",
    "                new_vertex = neighbor\n",
    "                new_path = path + [vertex]\n",
    "\n",
    "                if new_vertex == goal:\n",
    "                    return new_path + [goal]\n",
    "\n",
    "                next_beam.append((new_vertex, new_path))\n",
    "\n",
    "\n",
    "        next_beam.sort(key=lambda item: len(item[1]))\n",
    "\n",
    "\n",
    "        current_beam = next_beam[:beam_width]\n",
    "\n",
    "    return None\n",
    "\n",
    "\n",
    "goal_vertex = 'G'\n",
    "beam_width = 2 \n",
    "\n",
    "\n",
    "start_vertex = vertices.index('S')\n",
    "path_indices = beam_search(adjacency_matrix, start_vertex, vertices.index(goal_vertex), beam_width)\n",
    "\n",
    "if path_indices is not None:\n",
    "\n",
    "    path = [vertices[i] for i in path_indices]\n",
    "    print(\"Path from 'S' to 'G' found by Beam Search:\", \" -> \".join(path))\n",
    "else:\n",
    "    print(\"No path from 'S' to 'G' found by Beam Search\")\n"
   ]
  },
  {
   "cell_type": "code",
   "execution_count": null,
   "metadata": {},
   "outputs": [],
   "source": []
  }
 ],
 "metadata": {
  "kernelspec": {
   "display_name": "Python 3",
   "language": "python",
   "name": "python3"
  },
  "language_info": {
   "codemirror_mode": {
    "name": "ipython",
    "version": 3
   },
   "file_extension": ".py",
   "mimetype": "text/x-python",
   "name": "python",
   "nbconvert_exporter": "python",
   "pygments_lexer": "ipython3",
   "version": "3.11.4"
  },
  "orig_nbformat": 4
 },
 "nbformat": 4,
 "nbformat_minor": 2
}
