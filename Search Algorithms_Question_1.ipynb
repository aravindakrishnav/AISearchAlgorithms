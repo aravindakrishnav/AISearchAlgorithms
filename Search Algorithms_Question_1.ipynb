{
 "cells": [
  {
   "cell_type": "markdown",
   "metadata": {},
   "source": [
    "# Search Algorithms"
   ]
  },
  {
   "cell_type": "markdown",
   "metadata": {},
   "source": [
    "## Creating Graph 1: BMS, BFS, DFS (Source S, Goal F)"
   ]
  },
  {
   "cell_type": "code",
   "execution_count": 3,
   "metadata": {},
   "outputs": [
    {
     "name": "stdout",
     "output_type": "stream",
     "text": [
      "[0, 1, 1, 0, 0, 0, 0]\n",
      "[1, 0, 0, 0, 0, 0, 1]\n",
      "[1, 0, 0, 1, 1, 0, 0]\n",
      "[0, 0, 1, 0, 0, 1, 0]\n",
      "[0, 0, 1, 0, 0, 0, 1]\n",
      "[0, 0, 0, 1, 0, 0, 1]\n",
      "[0, 1, 0, 0, 1, 1, 0]\n"
     ]
    }
   ],
   "source": [
    "# Defining vertices and edges of the graph in the form of a list\n",
    "vertices = ['S', 'A', 'B', 'C', 'D', 'E', 'F']\n",
    "edges = [('S','A'),('S', 'B'), ('B', 'C'), ('B', 'D'),('D', 'F'),('C', 'E'), ('E', 'F'),('A', 'F')]\n",
    "\n",
    "# function to convert vertex labels to numeric indices\n",
    "def get_vertex_index(vertex):\n",
    "    return vertices.index(vertex)\n",
    "\n",
    "# Creating an empty adjacency matrix\n",
    "num_vertices = len(vertices)\n",
    "adjacency_matrix = [[0] * num_vertices for _ in range(num_vertices)]\n",
    "\n",
    "# Fill in the adjacency matrix based on edges\n",
    "for edge in edges:\n",
    "    vertex1, vertex2 = edge\n",
    "    i, j = get_vertex_index(vertex1), get_vertex_index(vertex2)\n",
    "    adjacency_matrix[i][j] = 1  # For directed graph\n",
    "    adjacency_matrix[j][i] = 1  # For undirected graph\n",
    "\n",
    "graph = adjacency_matrix\n",
    "for row in graph:\n",
    "    print(row)"
   ]
  },
  {
   "cell_type": "markdown",
   "metadata": {},
   "source": [
    "## Depth First Search"
   ]
  },
  {
   "cell_type": "code",
   "execution_count": 4,
   "metadata": {},
   "outputs": [
    {
     "name": "stdout",
     "output_type": "stream",
     "text": [
      "Path from 'S' to 'F': S -> A -> F\n",
      "Path from 'S' to 'F': S -> B -> C -> E -> F\n",
      "Path from 'S' to 'F': S -> B -> D -> F\n"
     ]
    }
   ],
   "source": [
    "# Defining DFS function to print the path\n",
    "def dfs_with_path(graph, start, end, path=[]):\n",
    "    path = path + [start]\n",
    "\n",
    "    if start == end:\n",
    "        print(\"Path from 'S' to 'F':\", \" -> \".join(vertices[vertex] for vertex in path))\n",
    "    else:\n",
    "        for neighbor in range(len(graph[start])):\n",
    "            if graph[start][neighbor] == 1 and neighbor not in path:\n",
    "                dfs_with_path(graph, neighbor, end, path)\n",
    "\n",
    "# Finding the path taken by DFS from S to F\n",
    "start_vertex = get_vertex_index('S')\n",
    "end_vertex = get_vertex_index('F')\n",
    "dfs_with_path(graph, start_vertex, end_vertex)\n"
   ]
  },
  {
   "cell_type": "markdown",
   "metadata": {},
   "source": [
    "## British Museum Search"
   ]
  },
  {
   "cell_type": "code",
   "execution_count": 6,
   "metadata": {},
   "outputs": [
    {
     "name": "stdout",
     "output_type": "stream",
     "text": [
      "Path from 'S' to 'F' (British Museum Search): S -> A -> F\n"
     ]
    }
   ],
   "source": [
    "from collections import deque\n",
    "\n",
    "def british_museum_search(graph, start, goal):\n",
    "    queue = deque()\n",
    "    visited = set()\n",
    "    path = []\n",
    "    \n",
    "    queue.append([start])\n",
    "    \n",
    "    while queue:\n",
    "        current_path = queue.popleft()\n",
    "        current_node = current_path[-1]\n",
    "        \n",
    "        if current_node == goal:\n",
    "            path = current_path\n",
    "            break\n",
    "        \n",
    "        if current_node not in visited:\n",
    "            visited.add(current_node)\n",
    "            for neighbor in range(len(graph[current_node])):\n",
    "                if graph[current_node][neighbor] == 1:\n",
    "                    new_path = list(current_path)\n",
    "                    new_path.append(neighbor)\n",
    "                    queue.append(new_path)\n",
    "    \n",
    "    return path\n",
    "\n",
    "# Finding the path taken by British Museum Search from S to F\n",
    "start_vertex = get_vertex_index('S')\n",
    "end_vertex = get_vertex_index('F')\n",
    "bms_path = british_museum_search(graph, start_vertex, end_vertex)\n",
    "\n",
    "if bms_path:\n",
    "    print(\"Path from 'S' to 'F' (British Museum Search):\", \" -> \".join(vertices[vertex] for vertex in bms_path))\n",
    "else:\n",
    "    print(\"No path from 'S' to 'F'\")\n"
   ]
  },
  {
   "cell_type": "code",
   "execution_count": 7,
   "metadata": {},
   "outputs": [
    {
     "name": "stdout",
     "output_type": "stream",
     "text": [
      "Path from 'S' to 'F' (BFS): S -> A -> F\n"
     ]
    }
   ],
   "source": [
    "from collections import deque\n",
    "\n",
    "def bfs(graph, start, goal):\n",
    "    queue = deque()\n",
    "    visited = set()\n",
    "    parent = {}\n",
    "    \n",
    "    queue.append(start)\n",
    "    visited.add(start)\n",
    "    \n",
    "    while queue:\n",
    "        current_node = queue.popleft()\n",
    "        \n",
    "        if current_node == goal:\n",
    "            break\n",
    "        \n",
    "        for neighbor in range(len(graph[current_node])):\n",
    "            if graph[current_node][neighbor] == 1 and neighbor not in visited:\n",
    "                queue.append(neighbor)\n",
    "                visited.add(neighbor)\n",
    "                parent[neighbor] = current_node\n",
    "    \n",
    "    # Reconstruct the path from the goal to the start\n",
    "    path = []\n",
    "    current = goal\n",
    "    while current != start:\n",
    "        path.append(current)\n",
    "        current = parent[current]\n",
    "    path.append(start)\n",
    "    path.reverse()\n",
    "    \n",
    "    return path\n",
    "\n",
    "# Finding the path taken by BFS from S to F\n",
    "start_vertex = get_vertex_index('S')\n",
    "end_vertex = get_vertex_index('F')\n",
    "bfs_path = bfs(graph, start_vertex, end_vertex)\n",
    "\n",
    "if bfs_path:\n",
    "    print(\"Path from 'S' to 'F' (BFS):\", \" -> \".join(vertices[vertex] for vertex in bfs_path))\n",
    "else:\n",
    "    print(\"No path from 'S' to 'F'\")\n"
   ]
  },
  {
   "cell_type": "markdown",
   "metadata": {},
   "source": [
    "## Hill Climbing Search"
   ]
  },
  {
   "cell_type": "code",
   "execution_count": 8,
   "metadata": {},
   "outputs": [
    {
     "name": "stdout",
     "output_type": "stream",
     "text": [
      "Path from 'S' to 'F' (Hill Climbing Search): S -> B -> D -> F\n"
     ]
    }
   ],
   "source": [
    "# Function to perform Hill Climbing Search\n",
    "def hill_climbing_search(graph, start, goal):\n",
    "    current_node = start\n",
    "    path = [current_node]\n",
    "    \n",
    "    while current_node != goal:\n",
    "        neighbors = []\n",
    "        for neighbor in range(len(graph[current_node])):\n",
    "            if graph[current_node][neighbor] == 1:\n",
    "                neighbors.append(neighbor)\n",
    "        \n",
    "        if not neighbors:\n",
    "            break\n",
    "        \n",
    "        # Choosing neighbor that is closest to the goal\n",
    "        closest_neighbor = min(neighbors, key=lambda neighbor: abs(neighbor - goal))\n",
    "        current_node = closest_neighbor\n",
    "        path.append(current_node)\n",
    "    \n",
    "    if path[-1] == goal:\n",
    "        return path\n",
    "    else:\n",
    "        return None\n",
    "\n",
    "# Finding the path taken by Hill Climbing Search from S to F\n",
    "start_vertex = get_vertex_index('S')\n",
    "end_vertex = get_vertex_index('F')\n",
    "hill_climbing_path = hill_climbing_search(graph, start_vertex, end_vertex)\n",
    "\n",
    "if hill_climbing_path:\n",
    "    print(\"Path from 'S' to 'F' (Hill Climbing Search):\", \" -> \".join(vertices[vertex] for vertex in hill_climbing_path))\n",
    "else:\n",
    "    print(\"No path from 'S' to 'F'\")\n"
   ]
  },
  {
   "cell_type": "markdown",
   "metadata": {},
   "source": [
    "## Beam Search"
   ]
  },
  {
   "cell_type": "code",
   "execution_count": 10,
   "metadata": {},
   "outputs": [
    {
     "name": "stdout",
     "output_type": "stream",
     "text": [
      "Path from 'S' to 'F' (Beam Search with Uniform Heuristics): S -> A -> F\n"
     ]
    }
   ],
   "source": [
    "from queue import PriorityQueue\n",
    "\n",
    "# Function to perform Beam Search with uniform heuristics\n",
    "def beam_search_uniform(graph, start, goal, beam_width):\n",
    "    frontier = PriorityQueue()\n",
    "    frontier.put((0, start))\n",
    "    paths = {start: []}\n",
    "    \n",
    "    while not frontier.empty():\n",
    "        _, current = frontier.get()\n",
    "        \n",
    "        if current == goal:\n",
    "            return paths[current] + [current]\n",
    "        \n",
    "        neighbors = []\n",
    "        for neighbor in range(len(graph[current])):\n",
    "            if graph[current][neighbor] == 1:\n",
    "                neighbors.append(neighbor)\n",
    "        \n",
    "        neighbors = sorted(neighbors)\n",
    "        \n",
    "        for neighbor in neighbors[:beam_width]:\n",
    "            new_path = paths[current] + [current]\n",
    "            if neighbor not in paths or len(new_path) < len(paths[neighbor]):\n",
    "                frontier.put((-len(new_path), neighbor))\n",
    "                paths[neighbor] = new_path\n",
    "    \n",
    "    return None\n",
    "\n",
    "# Finding the path taken by Beam Search with uniform heuristics from S to F with a beam width of 2\n",
    "start_vertex = get_vertex_index('S')\n",
    "end_vertex = get_vertex_index('F')\n",
    "beam_width = 2\n",
    "beam_search_uniform_path = beam_search_uniform(graph, start_vertex, end_vertex, beam_width)\n",
    "\n",
    "if beam_search_uniform_path:\n",
    "    print(\"Path from 'S' to 'F' (Beam Search with Uniform Heuristics):\", \" -> \".join(vertices[vertex] for vertex in beam_search_uniform_path))\n",
    "else:\n",
    "    print(\"No path from 'S' to 'F'\")\n"
   ]
  },
  {
   "cell_type": "code",
   "execution_count": null,
   "metadata": {},
   "outputs": [],
   "source": []
  }
 ],
 "metadata": {
  "kernelspec": {
   "display_name": "Python 3",
   "language": "python",
   "name": "python3"
  },
  "language_info": {
   "codemirror_mode": {
    "name": "ipython",
    "version": 3
   },
   "file_extension": ".py",
   "mimetype": "text/x-python",
   "name": "python",
   "nbconvert_exporter": "python",
   "pygments_lexer": "ipython3",
   "version": "3.11.4"
  },
  "orig_nbformat": 4
 },
 "nbformat": 4,
 "nbformat_minor": 2
}
